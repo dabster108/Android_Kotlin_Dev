{
  "nbformat": 4,
  "nbformat_minor": 0,
  "metadata": {
    "colab": {
      "provenance": [],
      "authorship_tag": "ABX9TyMHILM28Lvkvj2Mw014CcuS",
      "include_colab_link": true
    },
    "kernelspec": {
      "name": "python3",
      "display_name": "Python 3"
    },
    "language_info": {
      "name": "python"
    }
  },
  "cells": [
    {
      "cell_type": "markdown",
      "metadata": {
        "id": "view-in-github",
        "colab_type": "text"
      },
      "source": [
        "<a href=\"https://colab.research.google.com/github/dabster108/Android_Kotlin_Dev/blob/main/neural_networks_.ipynb\" target=\"_parent\"><img src=\"https://colab.research.google.com/assets/colab-badge.svg\" alt=\"Open In Colab\"/></a>"
      ]
    },
    {
      "cell_type": "code",
      "execution_count": null,
      "metadata": {
        "colab": {
          "base_uri": "https://localhost:8080/",
          "height": 89
        },
        "id": "xHw7m0eUALdJ",
        "outputId": "5bb3619c-2d4a-4589-c958-f4f16596a13f"
      },
      "outputs": [
        {
          "output_type": "execute_result",
          "data": {
            "text/plain": [
              "' Neural network is a computational system inspired by the human brain, called an artificial neural network (ANN).It is used to learn patterns from data and make predictions.\\n\\nLayers\\n\\t1.\\tInput layer → receives the data (like numbers, images, or words).\\n\\t2.\\tHidden layer(s) → processes the data and finds patterns.\\n\\t3.\\tOutput layer → produces the result or prediction.\\n\\nKey Terms\\n\\t•\\tWeight → decides how much influence an input has on the output.\\n\\t•\\tBias → a number added to input to adjust the output and help fit the data better.\\n\\t•\\tGradient → the signal used to update weights and biases during training so the network learns. '"
            ],
            "application/vnd.google.colaboratory.intrinsic+json": {
              "type": "string"
            }
          },
          "metadata": {},
          "execution_count": 2
        }
      ],
      "source": [
        "''' Neural network is a computational system inspired by the human brain, called an artificial neural network (ANN).It is used to learn patterns from data and make predictions.\n",
        "\n",
        "Layers\n",
        "\t1.\tInput layer → receives the data (like numbers, images, or words).\n",
        "\t2.\tHidden layer(s) → processes the data and finds patterns.\n",
        "\t3.\tOutput layer → produces the result or prediction.\n",
        "\n",
        "Key Terms\n",
        "\t•\tWeight → decides how much influence an input has on the output.\n",
        "\t•\tBias → a number added to input to adjust the output and help fit the data better.\n",
        "\t•\tGradient → the signal used to update weights and biases during training so the network learns. '''"
      ]
    },
    {
      "cell_type": "code",
      "source": [
        "''' Step 1: Import the necessary libraries (NumPy for computations).\n",
        "Step 2: Define the network architecture, including input size, hidden layers, and output size. Initialize weights and biases randomly.\n",
        "Step 3: Define the activation functions for the hidden and output layers along with their derivatives for backpropagation.\n",
        "Step 4: Implement forward propagation to compute outputs from inputs through the network.\n",
        "Step 5: Compute the loss using a suitable loss function, such as binary cross-entropy for binary classification.\n",
        "Step 6: Implement backward propagation to calculate gradients and update the weights and biases using gradient descent.\n",
        "Step 7: Set up a training loop to iterate the forward and backward passes over multiple epochs while monitoring the loss.\n",
        "Step 8: Create a prediction function that applies a threshold on the output to classify inputs.\n",
        "Step 9: Test the network on a dataset like XOR to ensure it learns correctly.'''"
      ],
      "metadata": {
        "colab": {
          "base_uri": "https://localhost:8080/",
          "height": 125
        },
        "id": "00wZy24jAfbN",
        "outputId": "8faadb45-4df7-4524-c235-2bb3216e2851"
      },
      "execution_count": null,
      "outputs": [
        {
          "output_type": "execute_result",
          "data": {
            "text/plain": [
              "' Step 1: Import the necessary libraries (NumPy for computations).\\nStep 2: Define the network architecture, including input size, hidden layers, and output size. Initialize weights and biases randomly.\\nStep 3: Define the activation functions for the hidden and output layers along with their derivatives for backpropagation.\\nStep 4: Implement forward propagation to compute outputs from inputs through the network.\\nStep 5: Compute the loss using a suitable loss function, such as binary cross-entropy for binary classification.\\nStep 6: Implement backward propagation to calculate gradients and update the weights and biases using gradient descent.\\nStep 7: Set up a training loop to iterate the forward and backward passes over multiple epochs while monitoring the loss.\\nStep 8: Create a prediction function that applies a threshold on the output to classify inputs.\\nStep 9: Test the network on a dataset like XOR to ensure it learns correctly.'"
            ],
            "application/vnd.google.colaboratory.intrinsic+json": {
              "type": "string"
            }
          },
          "metadata": {},
          "execution_count": 4
        }
      ]
    },
    {
      "cell_type": "code",
      "source": [
        "import numpy as np\n",
        "# For our first example, we’ll build a small network that can learn the XOR problem:\n",
        "# Input layer → 2 neurons (since XOR has 2 inputs)\n",
        "# Hidden layer → 2 neurons\n",
        "# Output layer → 1 neuron (binary classification: 0 or 1)\n",
        "\n",
        "'''\n",
        "So, basically weights are learnable parameters for which the input has the influence in the ouput and biases are like parameter or added numbers to fit data better\n",
        "'''"
      ],
      "metadata": {
        "id": "avrnaub3AmA-",
        "colab": {
          "base_uri": "https://localhost:8080/",
          "height": 35
        },
        "outputId": "6c86805f-ace5-47a6-fdaf-888bd94afc21"
      },
      "execution_count": 3,
      "outputs": [
        {
          "output_type": "execute_result",
          "data": {
            "text/plain": [
              "' \\nSo, basically weights are learnable parameters for which the input has the influence in the ouput and biases are like parameter or added numbers to fit data better \\n'"
            ],
            "application/vnd.google.colaboratory.intrinsic+json": {
              "type": "string"
            }
          },
          "metadata": {},
          "execution_count": 3
        }
      ]
    },
    {
      "cell_type": "code",
      "source": [
        "# Set random seed for reproducibility\n",
        "np.random.seed(42)\n",
        "\n",
        "# Network architecture\n",
        "input_size = 2      # number of input features\n",
        "hidden_size = 2     # number of neurons in hidden layer\n",
        "output_size = 1     # output layer (binary)\n",
        "\n",
        "# Initialize weights and biases\n",
        "W1 = np.random.randn(input_size, hidden_size)   # weights for input -> hidden\n",
        "b1 = np.zeros((1, hidden_size))                 # biases for hidden layer\n",
        "W2 = np.random.randn(hidden_size, output_size)  # weights for hidden -> output\n",
        "b2 = np.zeros((1, output_size))                 # biases for output layer"
      ],
      "metadata": {
        "id": "QNVBxp_IqcEE"
      },
      "execution_count": 4,
      "outputs": []
    },
    {
      "cell_type": "code",
      "source": [],
      "metadata": {
        "id": "G3wyR6Pwqc81"
      },
      "execution_count": null,
      "outputs": []
    }
  ]
}